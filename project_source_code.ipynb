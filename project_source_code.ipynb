{
 "cells": [
  {
   "cell_type": "code",
   "execution_count": 1,
   "metadata": {},
   "outputs": [],
   "source": [
    "import numpy as np\n",
    "from numpy import mean\n",
    "from numpy import std\n",
    "import matplotlib.pyplot as plt\n",
    "%matplotlib inline\n",
    "import keras\n",
    "from sklearn.model_selection import KFold"
   ]
  },
  {
   "cell_type": "code",
   "execution_count": 2,
   "metadata": {},
   "outputs": [
    {
     "data": {
      "text/plain": [
       "'tensorflow'"
      ]
     },
     "execution_count": 2,
     "metadata": {},
     "output_type": "execute_result"
    }
   ],
   "source": [
    "# Kontrola, aky na akom backende je keras library zalozena - je to tensorflow\n",
    "keras.backend.backend()"
   ]
  },
  {
   "cell_type": "code",
   "execution_count": 3,
   "metadata": {},
   "outputs": [],
   "source": [
    "# Importujeme si nas fashion dataset priamo z keras datasetov\n",
    "# (kedze keras priamo disponuje tymto datasetom)\n",
    "from keras.datasets import fashion_mnist"
   ]
  },
  {
   "cell_type": "code",
   "execution_count": 4,
   "metadata": {},
   "outputs": [],
   "source": [
    "# Metoda load_data() vrati dvojicu (x_train, y_train) a (x_test, y_test), kde\n",
    "# x_train a x_test su polia, ktore obsahuju data ciernobielych obrazkov s\n",
    "# tvarom (shape) - (pocet_obrazkov, 28, 28), kde 28 a 28 je pocet pixelov\n",
    "# na obrazok -> 1 obrazok ma 28x28 pixelov\n",
    "\n",
    "# y_train a y_test su polia oznaceni / labelov od 0 po 9, ktore symbolizuju\n",
    "# typ konkretneho oblecenia. Napr. 0 - tricko, 1 - nohavice, 2 - pulover, ...\n",
    "(x_train, y_train), (x_test, y_test) = fashion_mnist.load_data()"
   ]
  },
  {
   "cell_type": "code",
   "execution_count": 5,
   "metadata": {},
   "outputs": [
    {
     "data": {
      "text/plain": [
       "(60000, 28, 28)"
      ]
     },
     "execution_count": 5,
     "metadata": {},
     "output_type": "execute_result"
    }
   ],
   "source": [
    "# Cize trenovacia mnozina podla modelu vyssie obsahuje 60000 obrazkov / mnozin\n",
    "# pixelov, kde kazdy obrazok ma vysku 28px a sirku 28px\n",
    "x_train.shape"
   ]
  },
  {
   "cell_type": "code",
   "execution_count": 6,
   "metadata": {},
   "outputs": [
    {
     "data": {
      "text/plain": [
       "(10000, 28, 28)"
      ]
     },
     "execution_count": 6,
     "metadata": {},
     "output_type": "execute_result"
    }
   ],
   "source": [
    "# Tu vidime, ze mnozina, na ktorej budeme testovat / predikovat / klasifikovat\n",
    "# nazov alebo typ oblecenia podla daneho obrazku obsahuje\n",
    "# 10000 obrazkov / mnozin pixelov, kazdy s vyskou 28px a sirkou 28px\n",
    "x_test.shape"
   ]
  },
  {
   "cell_type": "code",
   "execution_count": 7,
   "metadata": {},
   "outputs": [
    {
     "data": {
      "text/plain": [
       "array([[  0,   0,   0,   0,   0,   0,   0,   0,   0,   0,   0,   0,   0,\n",
       "          0,   0,   0,   0,   0,   0,   0,   0,   0,   0,   0,   0,   0,\n",
       "          0,   0],\n",
       "       [  0,   0,   0,   0,   0,   0,   0,   0,   0,   0,   0,   0,   0,\n",
       "          0,   0,   0,   0,   0,   0,   0,   0,   0,   0,   0,   0,   0,\n",
       "          0,   0],\n",
       "       [  0,   0,   0,   0,   0,   0,   0,   0,   0,   0,   0,   0,   0,\n",
       "          0,   0,   0,   0,   0,   0,   0,   0,   0,   0,   0,   0,   0,\n",
       "          0,   0],\n",
       "       [  0,   0,   0,   0,   0,   0,   0,   0,   0,   0,   0,   0,   1,\n",
       "          0,   0,  13,  73,   0,   0,   1,   4,   0,   0,   0,   0,   1,\n",
       "          1,   0],\n",
       "       [  0,   0,   0,   0,   0,   0,   0,   0,   0,   0,   0,   0,   3,\n",
       "          0,  36, 136, 127,  62,  54,   0,   0,   0,   1,   3,   4,   0,\n",
       "          0,   3],\n",
       "       [  0,   0,   0,   0,   0,   0,   0,   0,   0,   0,   0,   0,   6,\n",
       "          0, 102, 204, 176, 134, 144, 123,  23,   0,   0,   0,   0,  12,\n",
       "         10,   0],\n",
       "       [  0,   0,   0,   0,   0,   0,   0,   0,   0,   0,   0,   0,   0,\n",
       "          0, 155, 236, 207, 178, 107, 156, 161, 109,  64,  23,  77, 130,\n",
       "         72,  15],\n",
       "       [  0,   0,   0,   0,   0,   0,   0,   0,   0,   0,   0,   1,   0,\n",
       "         69, 207, 223, 218, 216, 216, 163, 127, 121, 122, 146, 141,  88,\n",
       "        172,  66],\n",
       "       [  0,   0,   0,   0,   0,   0,   0,   0,   0,   1,   1,   1,   0,\n",
       "        200, 232, 232, 233, 229, 223, 223, 215, 213, 164, 127, 123, 196,\n",
       "        229,   0],\n",
       "       [  0,   0,   0,   0,   0,   0,   0,   0,   0,   0,   0,   0,   0,\n",
       "        183, 225, 216, 223, 228, 235, 227, 224, 222, 224, 221, 223, 245,\n",
       "        173,   0],\n",
       "       [  0,   0,   0,   0,   0,   0,   0,   0,   0,   0,   0,   0,   0,\n",
       "        193, 228, 218, 213, 198, 180, 212, 210, 211, 213, 223, 220, 243,\n",
       "        202,   0],\n",
       "       [  0,   0,   0,   0,   0,   0,   0,   0,   0,   1,   3,   0,  12,\n",
       "        219, 220, 212, 218, 192, 169, 227, 208, 218, 224, 212, 226, 197,\n",
       "        209,  52],\n",
       "       [  0,   0,   0,   0,   0,   0,   0,   0,   0,   0,   6,   0,  99,\n",
       "        244, 222, 220, 218, 203, 198, 221, 215, 213, 222, 220, 245, 119,\n",
       "        167,  56],\n",
       "       [  0,   0,   0,   0,   0,   0,   0,   0,   0,   4,   0,   0,  55,\n",
       "        236, 228, 230, 228, 240, 232, 213, 218, 223, 234, 217, 217, 209,\n",
       "         92,   0],\n",
       "       [  0,   0,   1,   4,   6,   7,   2,   0,   0,   0,   0,   0, 237,\n",
       "        226, 217, 223, 222, 219, 222, 221, 216, 223, 229, 215, 218, 255,\n",
       "         77,   0],\n",
       "       [  0,   3,   0,   0,   0,   0,   0,   0,   0,  62, 145, 204, 228,\n",
       "        207, 213, 221, 218, 208, 211, 218, 224, 223, 219, 215, 224, 244,\n",
       "        159,   0],\n",
       "       [  0,   0,   0,   0,  18,  44,  82, 107, 189, 228, 220, 222, 217,\n",
       "        226, 200, 205, 211, 230, 224, 234, 176, 188, 250, 248, 233, 238,\n",
       "        215,   0],\n",
       "       [  0,  57, 187, 208, 224, 221, 224, 208, 204, 214, 208, 209, 200,\n",
       "        159, 245, 193, 206, 223, 255, 255, 221, 234, 221, 211, 220, 232,\n",
       "        246,   0],\n",
       "       [  3, 202, 228, 224, 221, 211, 211, 214, 205, 205, 205, 220, 240,\n",
       "         80, 150, 255, 229, 221, 188, 154, 191, 210, 204, 209, 222, 228,\n",
       "        225,   0],\n",
       "       [ 98, 233, 198, 210, 222, 229, 229, 234, 249, 220, 194, 215, 217,\n",
       "        241,  65,  73, 106, 117, 168, 219, 221, 215, 217, 223, 223, 224,\n",
       "        229,  29],\n",
       "       [ 75, 204, 212, 204, 193, 205, 211, 225, 216, 185, 197, 206, 198,\n",
       "        213, 240, 195, 227, 245, 239, 223, 218, 212, 209, 222, 220, 221,\n",
       "        230,  67],\n",
       "       [ 48, 203, 183, 194, 213, 197, 185, 190, 194, 192, 202, 214, 219,\n",
       "        221, 220, 236, 225, 216, 199, 206, 186, 181, 177, 172, 181, 205,\n",
       "        206, 115],\n",
       "       [  0, 122, 219, 193, 179, 171, 183, 196, 204, 210, 213, 207, 211,\n",
       "        210, 200, 196, 194, 191, 195, 191, 198, 192, 176, 156, 167, 177,\n",
       "        210,  92],\n",
       "       [  0,   0,  74, 189, 212, 191, 175, 172, 175, 181, 185, 188, 189,\n",
       "        188, 193, 198, 204, 209, 210, 210, 211, 188, 188, 194, 192, 216,\n",
       "        170,   0],\n",
       "       [  2,   0,   0,   0,  66, 200, 222, 237, 239, 242, 246, 243, 244,\n",
       "        221, 220, 193, 191, 179, 182, 182, 181, 176, 166, 168,  99,  58,\n",
       "          0,   0],\n",
       "       [  0,   0,   0,   0,   0,   0,   0,  40,  61,  44,  72,  41,  35,\n",
       "          0,   0,   0,   0,   0,   0,   0,   0,   0,   0,   0,   0,   0,\n",
       "          0,   0],\n",
       "       [  0,   0,   0,   0,   0,   0,   0,   0,   0,   0,   0,   0,   0,\n",
       "          0,   0,   0,   0,   0,   0,   0,   0,   0,   0,   0,   0,   0,\n",
       "          0,   0],\n",
       "       [  0,   0,   0,   0,   0,   0,   0,   0,   0,   0,   0,   0,   0,\n",
       "          0,   0,   0,   0,   0,   0,   0,   0,   0,   0,   0,   0,   0,\n",
       "          0,   0]], dtype=uint8)"
      ]
     },
     "execution_count": 7,
     "metadata": {},
     "output_type": "execute_result"
    }
   ],
   "source": [
    "# Mozeme si ukazat, ako napriklad vyzera prvy obrazok v nasom trenovacom\n",
    "# datasete, lenze tu je treba poznamenat, ze je v tvare matice s velkostou\n",
    "# 28x28, ktora je zlozena z celych nezapornych 8-bitovych cisel, ktore su\n",
    "# od 0 - 255, co symbolizuje svetlost / tmavost daneho pixelu. Cize \n",
    "# cez takyto vypis si velmi nevieme predstavit ako obrazok bude realne vyzerat\n",
    "\n",
    "x_train[0]"
   ]
  },
  {
   "cell_type": "code",
   "execution_count": 8,
   "metadata": {},
   "outputs": [
    {
     "data": {
      "text/plain": [
       "<matplotlib.image.AxesImage at 0x2ac5421bac0>"
      ]
     },
     "execution_count": 8,
     "metadata": {},
     "output_type": "execute_result"
    },
    {
     "data": {
      "image/png": "[encoded data removed]",
      "text/plain": [
       "<Figure size 288x288 with 1 Axes>"
      ]
     },
     "metadata": {
      "needs_background": "light"
     },
     "output_type": "display_data"
    }
   ],
   "source": [
    "# Na druhu stranu, kniznica matplotlib ponuka funkciu matshow(), ktora dokaze\n",
    "# zobrazit takuto maticu vo vizualne privetivejsom \"grafe\" a takymto sposobom\n",
    "# uz vieme obrazok ovela lepsie identifikovat. Vidime, ze na prvom obrazku\n",
    "# datasetu sa nachadza pravdepodobne topanka.\n",
    "\n",
    "plt.matshow(x_train[0])"
   ]
  },
  {
   "cell_type": "code",
   "execution_count": 9,
   "metadata": {},
   "outputs": [
    {
     "data": {
      "text/plain": [
       "9"
      ]
     },
     "execution_count": 9,
     "metadata": {},
     "output_type": "execute_result"
    }
   ],
   "source": [
    "# Kedze klasifikacia bude prebiehat tak, ze k danemu obrazku bude priradene\n",
    "# cislo / label od 0 - 9 (0 - tielko, 1 - nohavice, 2 - pulover, ...),\n",
    "# mozme si prave k tomuto obrazku vypisat aj korespondujuce cislo / label,\n",
    "# ktory sa samozrejme nachadza v mnozine y_train. Vidime, ze tato konkretna\n",
    "# topanka, ma label 9\n",
    "\n",
    "y_train[0]"
   ]
  },
  {
   "cell_type": "code",
   "execution_count": 10,
   "metadata": {},
   "outputs": [
    {
     "data": {
      "text/plain": [
       "<matplotlib.image.AxesImage at 0x2ac5452c7c0>"
      ]
     },
     "execution_count": 10,
     "metadata": {},
     "output_type": "execute_result"
    },
    {
     "data": {
      "image/png": "[encoded data removed]",
      "text/plain": [
       "<Figure size 288x288 with 1 Axes>"
      ]
     },
     "metadata": {
      "needs_background": "light"
     },
     "output_type": "display_data"
    }
   ],
   "source": [
    "# Mozeme sa pozriet aj na ine obrazky podobnym sposobom\n",
    "\n",
    "plt.matshow(x_train[2])"
   ]
  },
  {
   "cell_type": "code",
   "execution_count": 11,
   "metadata": {},
   "outputs": [
    {
     "data": {
      "text/plain": [
       "0"
      ]
     },
     "execution_count": 11,
     "metadata": {},
     "output_type": "execute_result"
    }
   ],
   "source": [
    "# Tento obrazok znazornuje tielko a jeho identifikacne cislo / label je 0\n",
    "\n",
    "y_train[2]"
   ]
  },
  {
   "cell_type": "code",
   "execution_count": 12,
   "metadata": {},
   "outputs": [],
   "source": [
    "# Normalizacia datasetu\n",
    "\n",
    "x_train = x_train / 255\n",
    "x_test = x_test / 255"
   ]
  },
  {
   "cell_type": "code",
   "execution_count": 13,
   "metadata": {},
   "outputs": [
    {
     "data": {
      "text/plain": [
       "array([[0.        , 0.        , 0.        , 0.        , 0.        ,\n",
       "        0.00392157, 0.        , 0.        , 0.        , 0.        ,\n",
       "        0.16078431, 0.7372549 , 0.40392157, 0.21176471, 0.18823529,\n",
       "        0.16862745, 0.34117647, 0.65882353, 0.52156863, 0.0627451 ,\n",
       "        0.        , 0.        , 0.        , 0.        , 0.        ,\n",
       "        0.        , 0.        , 0.        ],\n",
       "       [0.        , 0.        , 0.        , 0.00392157, 0.        ,\n",
       "        0.        , 0.        , 0.19215686, 0.53333333, 0.85882353,\n",
       "        0.84705882, 0.89411765, 0.9254902 , 1.        , 1.        ,\n",
       "        1.        , 1.        , 0.85098039, 0.84313725, 0.99607843,\n",
       "        0.90588235, 0.62745098, 0.17647059, 0.        , 0.        ,\n",
       "        0.        , 0.        , 0.        ],\n",
       "       [0.        , 0.        , 0.        , 0.        , 0.        ,\n",
       "        0.05490196, 0.69019608, 0.87058824, 0.87843137, 0.83137255,\n",
       "        0.79607843, 0.77647059, 0.76862745, 0.78431373, 0.84313725,\n",
       "        0.8       , 0.79215686, 0.78823529, 0.78823529, 0.78823529,\n",
       "        0.81960784, 0.85490196, 0.87843137, 0.64313725, 0.        ,\n",
       "        0.        , 0.        , 0.        ],\n",
       "       [0.        , 0.        , 0.        , 0.        , 0.        ,\n",
       "        0.7372549 , 0.85882353, 0.78431373, 0.77647059, 0.79215686,\n",
       "        0.77647059, 0.78039216, 0.78039216, 0.78823529, 0.76862745,\n",
       "        0.77647059, 0.77647059, 0.78431373, 0.78431373, 0.78431373,\n",
       "        0.78431373, 0.78823529, 0.78431373, 0.88235294, 0.16078431,\n",
       "        0.        , 0.        , 0.        ],\n",
       "       [0.        , 0.        , 0.        , 0.        , 0.2       ,\n",
       "        0.85882353, 0.78039216, 0.79607843, 0.79607843, 0.83137255,\n",
       "        0.93333333, 0.97254902, 0.98039216, 0.96078431, 0.97647059,\n",
       "        0.96470588, 0.96862745, 0.98823529, 0.97254902, 0.92156863,\n",
       "        0.81176471, 0.79607843, 0.79607843, 0.87058824, 0.54901961,\n",
       "        0.        , 0.        , 0.        ],\n",
       "       [0.        , 0.        , 0.        , 0.        , 0.45490196,\n",
       "        0.88627451, 0.80784314, 0.8       , 0.81176471, 0.8       ,\n",
       "        0.39607843, 0.29411765, 0.18431373, 0.28627451, 0.18823529,\n",
       "        0.19607843, 0.17647059, 0.2       , 0.24705882, 0.44313725,\n",
       "        0.87058824, 0.79215686, 0.80784314, 0.8627451 , 0.87843137,\n",
       "        0.        , 0.        , 0.        ],\n",
       "       [0.        , 0.        , 0.        , 0.        , 0.78431373,\n",
       "        0.87058824, 0.81960784, 0.79607843, 0.84313725, 0.78431373,\n",
       "        0.        , 0.2745098 , 0.38431373, 0.        , 0.40392157,\n",
       "        0.23137255, 0.26666667, 0.27843137, 0.19215686, 0.        ,\n",
       "        0.85882353, 0.80784314, 0.83921569, 0.82352941, 0.98039216,\n",
       "        0.14901961, 0.        , 0.        ],\n",
       "       [0.        , 0.        , 0.        , 0.        , 0.96862745,\n",
       "        0.85490196, 0.83137255, 0.82352941, 0.84313725, 0.83921569,\n",
       "        0.        , 0.99607843, 0.95294118, 0.54509804, 1.        ,\n",
       "        0.68235294, 0.98431373, 1.        , 0.80392157, 0.        ,\n",
       "        0.84313725, 0.85098039, 0.83921569, 0.81568627, 0.8627451 ,\n",
       "        0.37254902, 0.        , 0.        ],\n",
       "       [0.        , 0.        , 0.        , 0.17647059, 0.88627451,\n",
       "        0.83921569, 0.83921569, 0.84313725, 0.87843137, 0.80392157,\n",
       "        0.        , 0.16470588, 0.1372549 , 0.23529412, 0.0627451 ,\n",
       "        0.06666667, 0.04705882, 0.05098039, 0.2745098 , 0.        ,\n",
       "        0.74117647, 0.84705882, 0.83137255, 0.80784314, 0.83137255,\n",
       "        0.61176471, 0.        , 0.        ],\n",
       "       [0.        , 0.        , 0.        , 0.64313725, 0.92156863,\n",
       "        0.83921569, 0.82745098, 0.8627451 , 0.84705882, 0.78823529,\n",
       "        0.20392157, 0.27843137, 0.34901961, 0.36862745, 0.3254902 ,\n",
       "        0.30588235, 0.2745098 , 0.29803922, 0.36078431, 0.34117647,\n",
       "        0.80784314, 0.81176471, 0.87058824, 0.83529412, 0.85882353,\n",
       "        0.81568627, 0.        , 0.        ],\n",
       "       [0.        , 0.        , 0.        , 0.41568627, 0.73333333,\n",
       "        0.8745098 , 0.92941176, 0.97254902, 0.82745098, 0.77647059,\n",
       "        0.98823529, 0.98039216, 0.97254902, 0.96078431, 0.97254902,\n",
       "        0.98823529, 0.99215686, 0.98039216, 0.98823529, 0.9372549 ,\n",
       "        0.78823529, 0.83137255, 0.88235294, 0.84313725, 0.75686275,\n",
       "        0.44313725, 0.        , 0.        ],\n",
       "       [0.        , 0.        , 0.        , 0.        , 0.        ,\n",
       "        0.06666667, 0.21176471, 0.62352941, 0.87058824, 0.75686275,\n",
       "        0.81568627, 0.75294118, 0.77254902, 0.78431373, 0.78431373,\n",
       "        0.78431373, 0.78431373, 0.78823529, 0.79607843, 0.76470588,\n",
       "        0.82352941, 0.64705882, 0.        , 0.        , 0.        ,\n",
       "        0.        , 0.        , 0.        ],\n",
       "       [0.        , 0.        , 0.        , 0.        , 0.        ,\n",
       "        0.        , 0.        , 0.18431373, 0.88235294, 0.75294118,\n",
       "        0.83921569, 0.79607843, 0.80784314, 0.8       , 0.8       ,\n",
       "        0.80392157, 0.80784314, 0.8       , 0.83137255, 0.77254902,\n",
       "        0.85490196, 0.41960784, 0.        , 0.        , 0.        ,\n",
       "        0.        , 0.        , 0.        ],\n",
       "       [0.        , 0.        , 0.        , 0.        , 0.00392157,\n",
       "        0.02352941, 0.        , 0.18039216, 0.83137255, 0.76470588,\n",
       "        0.83137255, 0.79215686, 0.80784314, 0.80392157, 0.8       ,\n",
       "        0.80392157, 0.80784314, 0.8       , 0.83137255, 0.78431373,\n",
       "        0.85490196, 0.35686275, 0.        , 0.01176471, 0.00392157,\n",
       "        0.        , 0.        , 0.        ],\n",
       "       [0.        , 0.        , 0.        , 0.        , 0.        ,\n",
       "        0.00392157, 0.        , 0.04313725, 0.77254902, 0.78039216,\n",
       "        0.80392157, 0.79215686, 0.80392157, 0.80784314, 0.8       ,\n",
       "        0.80392157, 0.81176471, 0.8       , 0.80392157, 0.80392157,\n",
       "        0.85490196, 0.30196078, 0.        , 0.01960784, 0.        ,\n",
       "        0.        , 0.        , 0.        ],\n",
       "       [0.        , 0.        , 0.        , 0.        , 0.        ,\n",
       "        0.01176471, 0.        , 0.00784314, 0.74901961, 0.77647059,\n",
       "        0.78823529, 0.80392157, 0.80784314, 0.80392157, 0.80392157,\n",
       "        0.80784314, 0.81960784, 0.80784314, 0.78039216, 0.81960784,\n",
       "        0.85882353, 0.29019608, 0.        , 0.01960784, 0.        ,\n",
       "        0.        , 0.        , 0.        ],\n",
       "       [0.        , 0.        , 0.        , 0.        , 0.        ,\n",
       "        0.00784314, 0.        , 0.        , 0.7372549 , 0.77254902,\n",
       "        0.78431373, 0.81176471, 0.81176471, 0.8       , 0.81176471,\n",
       "        0.81176471, 0.82352941, 0.81568627, 0.77647059, 0.81176471,\n",
       "        0.86666667, 0.28235294, 0.        , 0.01568627, 0.        ,\n",
       "        0.        , 0.        , 0.        ],\n",
       "       [0.        , 0.        , 0.        , 0.        , 0.        ,\n",
       "        0.00784314, 0.        , 0.        , 0.84313725, 0.77647059,\n",
       "        0.79607843, 0.80784314, 0.81568627, 0.80392157, 0.81176471,\n",
       "        0.81176471, 0.82352941, 0.81568627, 0.78431373, 0.79215686,\n",
       "        0.87058824, 0.29411765, 0.        , 0.01568627, 0.        ,\n",
       "        0.        , 0.        , 0.        ],\n",
       "       [0.        , 0.        , 0.        , 0.        , 0.        ,\n",
       "        0.00392157, 0.        , 0.        , 0.83137255, 0.77647059,\n",
       "        0.81960784, 0.80784314, 0.81960784, 0.80784314, 0.81568627,\n",
       "        0.81176471, 0.82745098, 0.80784314, 0.80392157, 0.77647059,\n",
       "        0.86666667, 0.31372549, 0.        , 0.01176471, 0.        ,\n",
       "        0.        , 0.        , 0.        ],\n",
       "       [0.        , 0.        , 0.        , 0.        , 0.        ,\n",
       "        0.00392157, 0.        , 0.        , 0.8       , 0.78823529,\n",
       "        0.80392157, 0.81568627, 0.81176471, 0.80392157, 0.82745098,\n",
       "        0.80392157, 0.82352941, 0.82352941, 0.81960784, 0.76470588,\n",
       "        0.86666667, 0.37647059, 0.        , 0.01176471, 0.        ,\n",
       "        0.        , 0.        , 0.        ],\n",
       "       [0.        , 0.        , 0.        , 0.        , 0.        ,\n",
       "        0.00392157, 0.        , 0.        , 0.79215686, 0.78823529,\n",
       "        0.80392157, 0.81960784, 0.81176471, 0.80392157, 0.83529412,\n",
       "        0.80784314, 0.82352941, 0.81960784, 0.82352941, 0.76078431,\n",
       "        0.85098039, 0.41176471, 0.        , 0.00784314, 0.        ,\n",
       "        0.        , 0.        , 0.        ],\n",
       "       [0.        , 0.        , 0.        , 0.        , 0.        ,\n",
       "        0.00392157, 0.        , 0.        , 0.8       , 0.8       ,\n",
       "        0.80392157, 0.81568627, 0.81176471, 0.80392157, 0.84313725,\n",
       "        0.81176471, 0.82352941, 0.81568627, 0.82745098, 0.75686275,\n",
       "        0.83529412, 0.45098039, 0.        , 0.00784314, 0.        ,\n",
       "        0.        , 0.        , 0.        ],\n",
       "       [0.        , 0.        , 0.        , 0.        , 0.        ,\n",
       "        0.        , 0.        , 0.        , 0.8       , 0.81176471,\n",
       "        0.81176471, 0.81568627, 0.80784314, 0.80784314, 0.84313725,\n",
       "        0.82352941, 0.82352941, 0.81176471, 0.83137255, 0.76470588,\n",
       "        0.82352941, 0.4627451 , 0.        , 0.00784314, 0.        ,\n",
       "        0.        , 0.        , 0.        ],\n",
       "       [0.        , 0.        , 0.        , 0.        , 0.        ,\n",
       "        0.00392157, 0.        , 0.        , 0.77647059, 0.81568627,\n",
       "        0.81568627, 0.81568627, 0.8       , 0.81176471, 0.83137255,\n",
       "        0.83137255, 0.82352941, 0.81176471, 0.82745098, 0.76862745,\n",
       "        0.81176471, 0.4745098 , 0.        , 0.00392157, 0.        ,\n",
       "        0.        , 0.        , 0.        ],\n",
       "       [0.        , 0.        , 0.        , 0.        , 0.        ,\n",
       "        0.00392157, 0.        , 0.        , 0.77647059, 0.82352941,\n",
       "        0.81176471, 0.81568627, 0.80784314, 0.81960784, 0.83529412,\n",
       "        0.83137255, 0.82745098, 0.81176471, 0.82352941, 0.77254902,\n",
       "        0.81176471, 0.48627451, 0.        , 0.00392157, 0.        ,\n",
       "        0.        , 0.        , 0.        ],\n",
       "       [0.        , 0.        , 0.        , 0.        , 0.        ,\n",
       "        0.        , 0.        , 0.        , 0.6745098 , 0.82352941,\n",
       "        0.79607843, 0.78823529, 0.78039216, 0.8       , 0.81176471,\n",
       "        0.80392157, 0.8       , 0.78823529, 0.80392157, 0.77254902,\n",
       "        0.80784314, 0.49803922, 0.        , 0.        , 0.        ,\n",
       "        0.        , 0.        , 0.        ],\n",
       "       [0.        , 0.        , 0.        , 0.        , 0.        ,\n",
       "        0.        , 0.        , 0.        , 0.7372549 , 0.86666667,\n",
       "        0.83921569, 0.91764706, 0.9254902 , 0.93333333, 0.95686275,\n",
       "        0.95686275, 0.95686275, 0.94117647, 0.95294118, 0.83921569,\n",
       "        0.87843137, 0.63529412, 0.        , 0.00784314, 0.        ,\n",
       "        0.        , 0.        , 0.        ],\n",
       "       [0.        , 0.        , 0.        , 0.        , 0.        ,\n",
       "        0.00392157, 0.        , 0.        , 0.54509804, 0.57254902,\n",
       "        0.50980392, 0.52941176, 0.52941176, 0.5372549 , 0.49019608,\n",
       "        0.48627451, 0.49019608, 0.4745098 , 0.46666667, 0.44705882,\n",
       "        0.50980392, 0.29803922, 0.        , 0.        , 0.        ,\n",
       "        0.        , 0.        , 0.        ]])"
      ]
     },
     "execution_count": 13,
     "metadata": {},
     "output_type": "execute_result"
    }
   ],
   "source": [
    "x_train[1]"
   ]
  },
  {
   "cell_type": "code",
   "execution_count": 14,
   "metadata": {},
   "outputs": [],
   "source": [
    "from keras.models import Sequential\n",
    "from keras.layers import Dense, Activation, Flatten"
   ]
  },
  {
   "cell_type": "code",
   "execution_count": 15,
   "metadata": {},
   "outputs": [],
   "source": [
    "# Vytvorenie modelu a pridanie layerov\n",
    "\n",
    "model = Sequential()\n",
    "\n",
    "# Pridanie INPUT layer, Flatten konvertuje 2D pole na 1D pole\n",
    "model.add(Flatten(input_shape = [28, 28]))\n",
    "\n",
    "# Pridanie HIDDEN layer, specifikujeme nejaky pocet neuronov (subjektivne) a zaroven pridame aktivacnu funckiu\n",
    "# V nasom pripade aktivacna funkcia bude 'relu'\n",
    "model.add(Dense(20, activation = 'relu'))\n",
    "\n",
    "# Pridanie OUPUT layer, bude ich 10, pretoze mame 10 kategorii oblecenia / moznych vysledkov\n",
    "# Aktivacna funkcia softmax urobi distribuciu mnoziny cisel na mnozinu pravdepodobnosti\n",
    "model.add(Dense(10, activation = 'softmax'))"
   ]
  },
  {
   "cell_type": "code",
   "execution_count": 16,
   "metadata": {},
   "outputs": [
    {
     "name": "stdout",
     "output_type": "stream",
     "text": [
      "Model: \"sequential\"\n",
      "_________________________________________________________________\n",
      "Layer (type)                 Output Shape              Param #   \n",
      "=================================================================\n",
      "flatten (Flatten)            (None, 784)               0         \n",
      "_________________________________________________________________\n",
      "dense (Dense)                (None, 20)                15700     \n",
      "_________________________________________________________________\n",
      "dense_1 (Dense)              (None, 10)                210       \n",
      "=================================================================\n",
      "Total params: 15,910\n",
      "Trainable params: 15,910\n",
      "Non-trainable params: 0\n",
      "_________________________________________________________________\n"
     ]
    }
   ],
   "source": [
    "# Model ma funkciu summary(), ktora nam ukaze, ako vyzera nasa neuronova siet\n",
    "# V nasom pripade vidime, ze mame 784 INPUT neuronov, 20 HIDDEN neuronov a 10 OUTPUT neuronov - OUTPUT SHAPE\n",
    "\n",
    "model.summary()"
   ]
  },
  {
   "cell_type": "code",
   "execution_count": 17,
   "metadata": {},
   "outputs": [],
   "source": [
    "# Model skompilujeme a pripravime na trenovanie\n",
    "model.compile(loss = \"sparse_categorical_crossentropy\", optimizer = \"adam\", metrics = [\"accuracy\"])"
   ]
  },
  {
   "cell_type": "code",
   "execution_count": 18,
   "metadata": {},
   "outputs": [],
   "source": [
    "# Trenovanie a evalvacia modelu\n",
    "def evalvacia_modelu(x_data, y_data, n_folds=5):\n",
    "    # Vytvorenie poli pre evidenciu presnosti a erroru\n",
    "    skore, historie = list(), list()\n",
    "    \n",
    "    # Pouzitie metody cross-validation aby sa predoslo overfittingu. Pri tejto metode sa rozdelia trenovacie data do\n",
    "    # viacerych skupin a podla vybraneho modelu (v nasom pripade k-fold) sa pouziju. Pri k-fold sa rozdelia trenovacie\n",
    "    # data do K skupin a vzdy sa pouzije K-1 skupin na trening a 1 skupina na validaciu daneho setu. Postupne sa\n",
    "    # iteruje az pokial sa ako validacna skupina nepouziju vsetky skupiny.\n",
    "    kfold = KFold(n_folds, shuffle=True, random_state=1)\n",
    "    \n",
    "    # Iterujeme cez skupiny ktore boli definovane metodou k-fold\n",
    "    for train_ix, test_ix in kfold.split(x_data):\n",
    "        # Vyberieme riadky pre trenovanie a riadky pre testovanie\n",
    "        trainX, trainY, testX, testY = x_data[train_ix], y_data[train_ix], x_data[test_ix], y_data[test_ix]\n",
    "        \n",
    "        # Nafitujeme model s danymi riadkami\n",
    "        # V nasom pripade sme si dali 10 epoch\n",
    "        # Batch size 32, aby trenovanie neprebiehalo priliz dlho\n",
    "        # na validation_data overime aky error / stratu momentalne mame\n",
    "        # verbose 1 nam vypise detailnejsie priebeh trenovanie v kazdej epoche\n",
    "        historia = model.fit(trainX, trainY, epochs=5, batch_size=32, validation_data=(testX, testY), verbose=1)\n",
    "        \n",
    "        # Evalvujeme model po kazdej iteracii vypiseme aktualnu presnost v percentach\n",
    "        _, acc = model.evaluate(testX, testY, verbose=0)\n",
    "        print('> %.3f' % (acc * 100.0))\n",
    "        \n",
    "        # Zapiseme aktualne presnosti a error\n",
    "        skore.append(acc)\n",
    "        historie.append(historia)\n",
    "    return skore, historie"
   ]
  },
  {
   "cell_type": "code",
   "execution_count": 19,
   "metadata": {},
   "outputs": [
    {
     "name": "stdout",
     "output_type": "stream",
     "text": [
      "Epoch 1/5\n",
      "1500/1500 [==============================] - 5s 3ms/step - loss: 0.7870 - accuracy: 0.7314 - val_loss: 0.4694 - val_accuracy: 0.8372\n",
      "Epoch 2/5\n",
      "1500/1500 [==============================] - 2s 1ms/step - loss: 0.4414 - accuracy: 0.8448 - val_loss: 0.4149 - val_accuracy: 0.8522\n",
      "Epoch 3/5\n",
      "1500/1500 [==============================] - 2s 1ms/step - loss: 0.3995 - accuracy: 0.8595 - val_loss: 0.4010 - val_accuracy: 0.8601\n",
      "Epoch 4/5\n",
      "1500/1500 [==============================] - 2s 1ms/step - loss: 0.3823 - accuracy: 0.8639 - val_loss: 0.3925 - val_accuracy: 0.8593\n",
      "Epoch 5/5\n",
      "1500/1500 [==============================] - 2s 1ms/step - loss: 0.3673 - accuracy: 0.8694 - val_loss: 0.3690 - val_accuracy: 0.8698\n",
      "> 86.975\n",
      "Epoch 1/5\n",
      "1500/1500 [==============================] - 2s 1ms/step - loss: 0.3577 - accuracy: 0.8726 - val_loss: 0.3497 - val_accuracy: 0.8731\n",
      "Epoch 2/5\n",
      "1500/1500 [==============================] - 2s 1ms/step - loss: 0.3474 - accuracy: 0.8757 - val_loss: 0.3401 - val_accuracy: 0.8785\n",
      "Epoch 3/5\n",
      "1500/1500 [==============================] - 2s 1ms/step - loss: 0.3374 - accuracy: 0.8779 - val_loss: 0.3512 - val_accuracy: 0.8736\n",
      "Epoch 4/5\n",
      "1500/1500 [==============================] - 2s 1ms/step - loss: 0.3309 - accuracy: 0.8785 - val_loss: 0.3509 - val_accuracy: 0.8763\n",
      "Epoch 5/5\n",
      "1500/1500 [==============================] - 2s 1ms/step - loss: 0.3251 - accuracy: 0.8821 - val_loss: 0.3583 - val_accuracy: 0.8682\n",
      "> 86.817\n",
      "Epoch 1/5\n",
      "1500/1500 [==============================] - 2s 1ms/step - loss: 0.3260 - accuracy: 0.8819 - val_loss: 0.3256 - val_accuracy: 0.8845\n",
      "Epoch 2/5\n",
      "1500/1500 [==============================] - 2s 1ms/step - loss: 0.3179 - accuracy: 0.8847 - val_loss: 0.3313 - val_accuracy: 0.8797\n",
      "Epoch 3/5\n",
      "1500/1500 [==============================] - 2s 1ms/step - loss: 0.3128 - accuracy: 0.8857 - val_loss: 0.3189 - val_accuracy: 0.8833\n",
      "Epoch 4/5\n",
      "1500/1500 [==============================] - 2s 1ms/step - loss: 0.3084 - accuracy: 0.8879 - val_loss: 0.3268 - val_accuracy: 0.8807\n",
      "Epoch 5/5\n",
      "1500/1500 [==============================] - 2s 1ms/step - loss: 0.3041 - accuracy: 0.8894 - val_loss: 0.3307 - val_accuracy: 0.8802\n",
      "> 88.025\n",
      "Epoch 1/5\n",
      "1500/1500 [==============================] - 2s 1ms/step - loss: 0.3074 - accuracy: 0.8882 - val_loss: 0.3114 - val_accuracy: 0.8876\n",
      "Epoch 2/5\n",
      "1500/1500 [==============================] - 2s 1ms/step - loss: 0.3003 - accuracy: 0.8927 - val_loss: 0.2966 - val_accuracy: 0.8898\n",
      "Epoch 3/5\n",
      "1500/1500 [==============================] - 2s 1ms/step - loss: 0.2985 - accuracy: 0.8910 - val_loss: 0.2960 - val_accuracy: 0.8921\n",
      "Epoch 4/5\n",
      "1500/1500 [==============================] - 2s 1ms/step - loss: 0.2931 - accuracy: 0.8934 - val_loss: 0.3099 - val_accuracy: 0.8865\n",
      "Epoch 5/5\n",
      "1500/1500 [==============================] - 2s 1ms/step - loss: 0.2926 - accuracy: 0.8942 - val_loss: 0.3038 - val_accuracy: 0.8882\n",
      "> 88.817\n",
      "Epoch 1/5\n",
      "1500/1500 [==============================] - 2s 1ms/step - loss: 0.2960 - accuracy: 0.8928 - val_loss: 0.2729 - val_accuracy: 0.9032\n",
      "Epoch 2/5\n",
      "1500/1500 [==============================] - 2s 1ms/step - loss: 0.2895 - accuracy: 0.8937 - val_loss: 0.2845 - val_accuracy: 0.8972\n",
      "Epoch 3/5\n",
      "1500/1500 [==============================] - 2s 1ms/step - loss: 0.2862 - accuracy: 0.8950 - val_loss: 0.2943 - val_accuracy: 0.8933\n",
      "Epoch 4/5\n",
      "1500/1500 [==============================] - 2s 1ms/step - loss: 0.2834 - accuracy: 0.8967 - val_loss: 0.2969 - val_accuracy: 0.8943\n",
      "Epoch 5/5\n",
      "1500/1500 [==============================] - 2s 1ms/step - loss: 0.2815 - accuracy: 0.8975 - val_loss: 0.2896 - val_accuracy: 0.8944\n",
      "> 89.442\n"
     ]
    },
    {
     "name": "stderr",
     "output_type": "stream",
     "text": [
      "<ipython-input-19-bf535c849d64>:6: MatplotlibDeprecationWarning: Adding an axes using the same arguments as a previous axes currently reuses the earlier instance.  In a future version, a new instance will always be created and returned.  Meanwhile, this warning can be suppressed, and the future behavior ensured, by passing a unique label to each axes instance.\n",
      "  plt.subplot(211)\n",
      "<ipython-input-19-bf535c849d64>:16: MatplotlibDeprecationWarning: Adding an axes using the same arguments as a previous axes currently reuses the earlier instance.  In a future version, a new instance will always be created and returned.  Meanwhile, this warning can be suppressed, and the future behavior ensured, by passing a unique label to each axes instance.\n",
      "  plt.subplot(212)\n"
     ]
    },
    {
     "data": {
      "image/png": "[encoded data removed]",
      "text/plain": [
       "<Figure size 432x288 with 2 Axes>"
      ]
     },
     "metadata": {
      "needs_background": "light"
     },
     "output_type": "display_data"
    },
    {
     "name": "stdout",
     "output_type": "stream",
     "text": [
      "Celkova presnost: stredna hodnota=88.015 standardna odchylka=1.019, n=5\n"
     ]
    }
   ],
   "source": [
    "# plot diagnostic learning curves\n",
    "def sumarizacia_diagnostiky_siete(historie):\n",
    "    for i in range(len(historie)):\n",
    "        \n",
    "        # Vykreslenie grafu pre chybovu funkciu / error\n",
    "        plt.subplot(211)\n",
    "        plt.title('Chybova funkcia / Error')\n",
    "        \n",
    "        # Hodnota chybovej funkcie pre trenovacie data\n",
    "        plt.plot(historie[i].history['loss'], color='blue', label='train')\n",
    "        \n",
    "        # Hodnota chybovej funkcie pre validacne data\n",
    "        plt.plot(historie[i].history['val_loss'], color='orange', label='test')\n",
    "        \n",
    "        # Vykreslenie grafu pre hodnoty presnosti\n",
    "        plt.subplot(212)\n",
    "        plt.title('Presnost klasifikacie')\n",
    "        \n",
    "        # Hodnota presnosti pre validacne data\n",
    "        plt.plot(historie[i].history['accuracy'], color='blue', label='train')\n",
    "        \n",
    "        # Hodnota presnosti pre validacne data\n",
    "        plt.plot(historie[i].history['val_accuracy'], color='orange', label='test')\n",
    "    plt.show()\n",
    "\n",
    "# Samotna evalvacia modelu\n",
    "skore, historie = evalvacia_modelu(x_train, y_train)\n",
    "\n",
    "# Sumarizacia a vykreslenie kriviek presnosti a chyby v grafoch\n",
    "sumarizacia_diagnostiky_siete(historie)\n",
    "\n",
    "print('Celkova presnost: stredna hodnota=%.3f standardna odchylka=%.3f, n=%d' % (mean(skore)*100, std(skore)*100, len(skore)))"
   ]
  },
  {
   "cell_type": "code",
   "execution_count": 23,
   "metadata": {},
   "outputs": [
    {
     "data": {
      "text/plain": [
       "<matplotlib.image.AxesImage at 0x2ac091fb910>"
      ]
     },
     "execution_count": 23,
     "metadata": {},
     "output_type": "execute_result"
    },
    {
     "data": {
      "image/png": "[encoded data removed]",
      "text/plain": [
       "<Figure size 288x288 with 1 Axes>"
      ]
     },
     "metadata": {
      "needs_background": "light"
     },
     "output_type": "display_data"
    }
   ],
   "source": [
    "# Vo prvom vykreslenom grafe vyssie mame 5 modrych kriviek (modra -> hodnota chyby pre trenovacie data) a\n",
    "# (zelena -> hodnota chyby pre validacne data) a mozeme vidiet ako po kazdej skupine (5 skupin - KFold) bola chybovost\n",
    "# nizzia a nizzia a klesala\n",
    "# V druhom grafe pod nim farebne analogicky mozeme vidiet ako nam presnost pre trenovacie data a validacne data v jednotlivych\n",
    "# skupinach neustala narastala - az sme sa dostali na 89.442% presnosti (0.89442), kde sme nasledne vypocitali mean\n",
    "# (strednu hodnotu) a teda v priemere bola presnost po vsetkych iteraciach skupin 88.015%\n",
    "\n",
    "# Teraz chceme otestovat presnost a funkcnost nasej neuronovej siete, a preto skusime predikovat nahodne vybrany obrazok\n",
    "# z testovacej mnoziny a pozrieme sa, ku ktorej kategorii oblecenia sa najviac priblizuje (ktora ma najvacsiu presnost)\n",
    "\n",
    "plt.matshow(x_test[3])\n",
    "\n",
    "# Zo subjektivneho pohladu vidime, ze sa jedna o nohavice"
   ]
  },
  {
   "cell_type": "code",
   "execution_count": 24,
   "metadata": {},
   "outputs": [],
   "source": [
    "# Pouzijeme funkciu predict ktorou disponuje model a ako parameter vlozime\n",
    "# nasu testovaciu mnozinu dat, ktora sa cela vyhodnoti a nasledne si z nej\n",
    "# mozeme vybrat konkretny obrazok, pri ktorom chceme zistit jeho klasifikaciu\n",
    "# do jednej z kategorii oblecenia\n",
    "yp = model.predict(x_test)"
   ]
  },
  {
   "cell_type": "code",
   "execution_count": 25,
   "metadata": {},
   "outputs": [
    {
     "data": {
      "text/plain": [
       "array([6.6391419e-07, 9.9998188e-01, 5.1825407e-07, 1.6283051e-05,\n",
       "       6.3108547e-07, 1.2688894e-13, 5.7479776e-09, 2.2912479e-19,\n",
       "       1.9889626e-08, 2.0071405e-12], dtype=float32)"
      ]
     },
     "execution_count": 25,
     "metadata": {},
     "output_type": "execute_result"
    }
   ],
   "source": [
    "# Vypiseme pravdepodobnosti / presnosti vyhodnotenia jednotlivych\n",
    "# kategorii oblecenia - je to pole, ktore obsahuje 10 cisel - 10 kategorii\n",
    "# oblecenia, kde indexy tychto cisel v poli znamenaju ciselny label oblecenia\n",
    "\n",
    "#0   Tielko\n",
    "#1   Nohavice\n",
    "#2   Pulover\n",
    "#3   Saty\n",
    "#4   Kabat\n",
    "#5   Sandale\n",
    "#6   Tricko\n",
    "#7   Sneaker\n",
    "#8   Taska\n",
    "#9   Cizmy\n",
    "\n",
    "yp[3]\n",
    "\n",
    "# Kedze prvky v poli sa indexuju od 0-9, tak mozeme vidiet, ze najvyssie\n",
    "# cislo je hned druhe v poradi (index 1). Ked sa nasledne pozrieme vyssie\n",
    "# kde su vypisane ciselne oznacenia konkretnych typov oblecenia, zistime,\n",
    "# ze index 1 su nohavice. Cize to znamena, ze neuronova siet vyhodnotila,\n",
    "# ze obrazok ktory sme jej dali su najviac pravdepodobne nohavice cca 99%"
   ]
  },
  {
   "cell_type": "code",
   "execution_count": 26,
   "metadata": {},
   "outputs": [
    {
     "data": {
      "text/plain": [
       "1"
      ]
     },
     "execution_count": 26,
     "metadata": {},
     "output_type": "execute_result"
    }
   ],
   "source": [
    "# Aby sme to videli lepsie, mozeme si vypisat na ktorom indexe sa nachadza\n",
    "# najvyssie cislo a vidime, ze je to prave na 1. indexe\n",
    "\n",
    "np.argmax(yp[3])"
   ]
  },
  {
   "cell_type": "code",
   "execution_count": 28,
   "metadata": {},
   "outputs": [
    {
     "data": {
      "text/plain": [
       "<matplotlib.image.AxesImage at 0x2ac53b8aca0>"
      ]
     },
     "execution_count": 28,
     "metadata": {},
     "output_type": "execute_result"
    },
    {
     "data": {
      "image/png": "[encoded data removed]",
      "text/plain": [
       "<Figure size 288x288 with 1 Axes>"
      ]
     },
     "metadata": {
      "needs_background": "light"
     },
     "output_type": "display_data"
    }
   ],
   "source": [
    "# Mozeme to vyskusat na viacerych kusoch oblecenia.\n",
    "plt.matshow(x_test[13])\n",
    "\n",
    "# Na prvy pohlad su to saty"
   ]
  },
  {
   "cell_type": "code",
   "execution_count": 29,
   "metadata": {},
   "outputs": [
    {
     "data": {
      "text/plain": [
       "3"
      ]
     },
     "execution_count": 29,
     "metadata": {},
     "output_type": "execute_result"
    }
   ],
   "source": [
    "# A vidime, ze index s najvyssim cislom je index c. 3, co naozaj su saty\n",
    "\n",
    "np.argmax(yp[13])"
   ]
  }
 ],
 "metadata": {
  "kernelspec": {
   "display_name": "Python 3",
   "language": "python",
   "name": "python3"
  },
  "language_info": {
   "codemirror_mode": {
    "name": "ipython",
    "version": 3
   },
   "file_extension": ".py",
   "mimetype": "text/x-python",
   "name": "python",
   "nbconvert_exporter": "python",
   "pygments_lexer": "ipython3",
   "version": "3.8.5"
  }
 },
 "nbformat": 4,
 "nbformat_minor": 4
}
